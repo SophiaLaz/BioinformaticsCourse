{
  "nbformat": 4,
  "nbformat_minor": 0,
  "metadata": {
    "colab": {
      "provenance": []
    },
    "kernelspec": {
      "name": "python3",
      "display_name": "Python 3"
    },
    "language_info": {
      "name": "python"
    }
  },
  "cells": [
    {
      "cell_type": "markdown",
      "source": [
        "**Задание 1**"
      ],
      "metadata": {
        "id": "Cx-moYMBk5W4"
      }
    },
    {
      "cell_type": "code",
      "execution_count": null,
      "metadata": {
        "id": "CLpkVjAHjfeN"
      },
      "outputs": [],
      "source": [
        "# !pip install Bio\n",
        "from Bio import Phylo\n",
        "from Bio.Phylo.PhyloXML import Phylogeny\n",
        "from difflib import SequenceMatcher\n",
        "import random"
      ]
    },
    {
      "cell_type": "markdown",
      "source": [
        "Построение филогенетического дерева."
      ],
      "metadata": {
        "id": "2sp6CenHkBzS"
      }
    },
    {
      "cell_type": "code",
      "source": [
        "def phylogeny(phylo_tree):\n",
        "    vertexes = list(phylo_tree.find_clades(terminal=False))\n",
        "    for vertex in vertexes[::-1]:\n",
        "        child = vertex.clades\n",
        "        child_name = [child[i].name for i in range(2)]\n",
        "        match = SequenceMatcher(None, *child_name).find_longest_match()\n",
        "        substring = child_name[0][match.a:match.a + match.size]\n",
        "        vertex.name = ''.join(child_name) if len(substring) == 0 else substring\n",
        "\n",
        "    print('Филогенетическое дерево построено.')\n",
        "    Phylo.draw(phylo_tree)\n",
        "    return phylo_tree\n",
        "    # phylo_tree_2 = Phylogeny.from_tree(tree)\n",
        "    # Phylo.draw(phylo_tree_2)"
      ],
      "metadata": {
        "id": "Ezd4VA9Dj9xS"
      },
      "execution_count": null,
      "outputs": []
    },
    {
      "cell_type": "markdown",
      "source": [
        "Реализация алгоритма Фитча."
      ],
      "metadata": {
        "id": "FeGk0a35kSDa"
      }
    },
    {
      "cell_type": "code",
      "source": [
        "def fitch_algorithm(tree):\n",
        "    vertexes = list(tree.find_clades(terminal=False))\n",
        "\n",
        "    child_0 = vertexes[0].clades\n",
        "    child_name_0 = [child_0[i].name for i in range(len(child_0))]\n",
        "    match = SequenceMatcher(None, *child_name_0).find_longest_match()\n",
        "    substring = child_name_0[0][match.a:match.a + match.size]\n",
        "    vertexes[0].name = random.choice(vertexes[0].name) if len(substring) == 0 else random.choice(substring)\n",
        "\n",
        "    for vertex in vertexes:\n",
        "        child = vertex.clades\n",
        "        child_name = [child[i].name for i in range(len(child))]\n",
        "        for child_i, name_i in zip(child, child_name):\n",
        "            match = SequenceMatcher(None, name_i, vertex.name).find_longest_match()\n",
        "            substring = name_i[match.a]\n",
        "            child_i.name = random.choice(name_i) if len(substring) == 0 else substring\n",
        "\n",
        "    print('Реализован алгоритм Фитча.')\n",
        "    Phylo.draw(tree)"
      ],
      "metadata": {
        "id": "-YdnnFq9j-n2"
      },
      "execution_count": null,
      "outputs": []
    },
    {
      "cell_type": "markdown",
      "source": [
        "Чтение правильной скобочной последовательности из `\"newick\"`-файла: `(((A, A), C), (C, G))`"
      ],
      "metadata": {
        "id": "8BkYVjyPkWke"
      }
    },
    {
      "cell_type": "code",
      "source": [
        "Phylo.read('test.newick', 'newick')"
      ],
      "metadata": {
        "colab": {
          "base_uri": "https://localhost:8080/"
        },
        "id": "_DmXD0C_juNt",
        "outputId": "ad82912b-f98b-4993-e8e5-c522552555b0"
      },
      "execution_count": null,
      "outputs": [
        {
          "output_type": "execute_result",
          "data": {
            "text/plain": [
              "Tree(rooted=False, weight=1.0)"
            ]
          },
          "metadata": {},
          "execution_count": 7
        }
      ]
    },
    {
      "cell_type": "code",
      "source": [
        "new_tree = phylogeny(Phylo.read('test.newick', 'newick'))"
      ],
      "metadata": {
        "colab": {
          "base_uri": "https://localhost:8080/",
          "height": 467
        },
        "id": "KQ5K3oQIjjiM",
        "outputId": "897d1d81-7b74-4874-f9fd-ded1e6cae505"
      },
      "execution_count": null,
      "outputs": [
        {
          "output_type": "stream",
          "name": "stdout",
          "text": [
            "Филогенетическое дерево построено.\n"
          ]
        },
        {
          "output_type": "display_data",
          "data": {
            "text/plain": [
              "<Figure size 640x480 with 1 Axes>"
            ],
            "image/png": "[encoded data removed]"
          },
          "metadata": {}
        }
      ]
    },
    {
      "cell_type": "code",
      "source": [
        "fitch_algorithm(new_tree)"
      ],
      "metadata": {
        "colab": {
          "base_uri": "https://localhost:8080/",
          "height": 467
        },
        "id": "KDyWcIMDkxFG",
        "outputId": "93454134-30b6-4e8a-d412-df0c13ade68f"
      },
      "execution_count": null,
      "outputs": [
        {
          "output_type": "stream",
          "name": "stdout",
          "text": [
            "Реализован алгоритм Фитча.\n"
          ]
        },
        {
          "output_type": "display_data",
          "data": {
            "text/plain": [
              "<Figure size 640x480 with 1 Axes>"
            ],
            "image/png": "[encoded data removed]"
          },
          "metadata": {}
        }
      ]
    },
    {
      "cell_type": "markdown",
      "source": [
        "**Задание 2**"
      ],
      "metadata": {
        "id": "NpcJT9Qbk9Wp"
      }
    },
    {
      "cell_type": "markdown",
      "source": [
        "*Напишите чему равно количество всех возможных не укоренненых филогенетических деревьев T(n) у которых n листьев.\n",
        "А так же, чему равно количество укорененных.\n",
        "Обратите внимание что это не числа Каталана.*"
      ],
      "metadata": {
        "id": "RJ3TszfYk85O"
      }
    },
    {
      "cell_type": "markdown",
      "source": [
        "Найдём число неукоренённых филогенетических деревьев на $n$ листьях. Для этого нужно рассмотреть все возможные комбинации $n$ детей на двух родителях.\n",
        "\n",
        "Считая, что минимум один ребёнок у каждой вершины, кроме листовой, есть, запишем комбинаторную формулу для поличества способов разделить n листьев на двоих детей:\n",
        "\n",
        "для $m-$ количество листьев в одном из детей число способов разделить $n$ листьев равно сумме всех возможных комбинаций $\\sum_{m=1}^{n-1}C_n^m$. \n",
        "\n",
        "Так как деревья считаем с точностью до обмена левой и правой частей, то окончательно получаем \n",
        "\n",
        "\\begin{equation}\n",
        "  \\frac{1}{2} \\cdot \\sum_{m=1}^{n-1}C_n^m.\n",
        "\\end{equation}\n",
        "\n",
        "Далее рекурсивно считаем для левого и правого поддерева. Тогда для подсчёта количества **неукоренённых** деревьев получим следующую формулу:\n",
        "\n",
        "\\begin{equation}\n",
        "  T(n) = \\frac{1}{2} \\cdot \\sum_{m=1}^{n-1} \\Bigl( C_n^m \\cdot T(m) \\cdot T(n-m) \\Bigr).\n",
        "\\end{equation}\n",
        "\n",
        "А для подсчёта **укоренённых** достаточно просто закрепить одну вершину $\\Rightarrow$ глубина рекурсии уменьшится на единицу: \n",
        "\n",
        "\\begin{equation}\n",
        "  T_{root}(n) = T(n-1).\n",
        "\\end{equation}"
      ],
      "metadata": {
        "id": "TkWdjXIVlZF8"
      }
    }
  ]
}